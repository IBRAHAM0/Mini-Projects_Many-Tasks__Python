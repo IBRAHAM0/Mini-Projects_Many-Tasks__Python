{
 "cells": [
  {
   "cell_type": "markdown",
   "id": "31ab2131-3049-4d8d-b9dc-d195f72af27a",
   "metadata": {},
   "source": [
    "![Los Angeles skyline](la_skyline.jpg)\n",
    "\n",
    "Los Angeles, California 😎. The City of Angels. Tinseltown. The Entertainment Capital of the World! \n",
    "\n",
    "Known for its warm weather, palm trees, sprawling coastline, and Hollywood, along with producing some of the most iconic films and songs. However, as with any highly populated city, it isn't always glamorous and there can be a large volume of crime. That's where you can help!\n",
    "\n",
    "You have been asked to support the Los Angeles Police Department (LAPD) by analyzing crime data to identify patterns in criminal behavior. They plan to use your insights to allocate resources effectively to tackle various crimes in different areas.\n",
    "\n",
    "## The Data\n",
    "\n",
    "They have provided you with a single dataset to use. A summary and preview are provided below.\n",
    "\n",
    "It is a modified version of the original data, which is publicly available from Los Angeles Open Data.\n",
    "\n",
    "# crimes.csv\n",
    "\n",
    "| Column     | Description              |\n",
    "|------------|--------------------------|\n",
    "| `'DR_NO'` | Division of Records Number: Official file number made up of a 2-digit year, area ID, and 5 digits. |\n",
    "| `'Date Rptd'` | Date reported - MM/DD/YYYY. |\n",
    "| `'DATE OCC'` | Date of occurrence - MM/DD/YYYY. |\n",
    "| `'TIME OCC'` | In 24-hour military time. |\n",
    "| `'AREA NAME'` | The 21 Geographic Areas or Patrol Divisions are also given a name designation that references a landmark or the surrounding community that it is responsible for. For example, the 77th Street Division is located at the intersection of South Broadway and 77th Street, serving neighborhoods in South Los Angeles. |\n",
    "| `'Crm Cd Desc'` | Indicates the crime committed. |\n",
    "| `'Vict Age'` | Victim's age in years. |\n",
    "| `'Vict Sex'` | Victim's sex: `F`: Female, `M`: Male, `X`: Unknown. |\n",
    "| `'Vict Descent'` | Victim's descent:<ul><li>`A` - Other Asian</li><li>`B` - Black</li><li>`C` - Chinese</li><li>`D` - Cambodian</li><li>`F` - Filipino</li><li>`G` - Guamanian</li><li>`H` - Hispanic/Latin/Mexican</li><li>`I` - American Indian/Alaskan Native</li><li>`J` - Japanese</li><li>`K` - Korean</li><li>`L` - Laotian</li><li>`O` - Other</li><li>`P` - Pacific Islander</li><li>`S` - Samoan</li><li>`U` - Hawaiian</li><li>`V` - Vietnamese</li><li>`W` - White</li><li>`X` - Unknown</li><li>`Z` - Asian Indian</li> |\n",
    "| `'Weapon Desc'` | Description of the weapon used (if applicable). |\n",
    "| `'Status Desc'` | Crime status. |\n",
    "| `'LOCATION'` | Street address of the crime. |"
   ]
  },
  {
   "cell_type": "code",
   "execution_count": 39,
   "id": "7c6c3c36-5c8b-4cce-8681-95292b8f0861",
   "metadata": {
    "executionCancelledAt": null,
    "executionTime": 430,
    "lastExecutedAt": 1710601046862,
    "lastScheduledRunId": null,
    "lastSuccessfullyExecutedCode": "# Re-run this cell\n# Import required libraries\nimport pandas as pd\nimport numpy as np\nimport matplotlib.pyplot as plt\nimport seaborn as sns\ncrimes = pd.read_csv(\"crimes.csv\", parse_dates=[\"Date Rptd\", \"DATE OCC\"], dtype={\"TIME OCC\": str})\ncrimes.head()",
    "outputsMetadata": {
     "0": {
      "height": 215,
      "type": "dataFrame"
     }
    }
   },
   "outputs": [
    {
     "data": {
      "application/com.datacamp.data-table.v2+json": {
       "table": {
        "data": {
         "AREA NAME": [
          "Pacific",
          "Southwest",
          "Olympic",
          "Hollywood",
          "77th Street"
         ],
         "Crm Cd Desc": [
          "THEFT FROM MOTOR VEHICLE - PETTY ($950 & UNDER)",
          "THEFT OF IDENTITY",
          "THEFT OF IDENTITY",
          "THEFT OF IDENTITY",
          "THEFT OF IDENTITY"
         ],
         "DATE OCC": [
          "2020-11-12T00:00:00.000",
          "2020-05-12T00:00:00.000",
          "2020-06-04T00:00:00.000",
          "2020-08-17T00:00:00.000",
          "2020-01-27T00:00:00.000"
         ],
         "DR_NO": [
          221412410,
          220314085,
          222013040,
          220614831,
          231207725
         ],
         "Date Rptd": [
          "2022-06-15T00:00:00.000",
          "2022-07-22T00:00:00.000",
          "2022-08-06T00:00:00.000",
          "2022-08-18T00:00:00.000",
          "2023-02-27T00:00:00.000"
         ],
         "LOCATION": [
          "13600    MARINA POINT                 DR",
          "2500 S  SYCAMORE                     AV",
          "3300    SAN MARINO                   ST",
          "1900    TRANSIENT",
          "6200    4TH                          AV"
         ],
         "Status Desc": [
          "Invest Cont",
          "Invest Cont",
          "Invest Cont",
          "Invest Cont",
          "Invest Cont"
         ],
         "TIME OCC": [
          "1700",
          "1110",
          "1620",
          "1200",
          "0635"
         ],
         "Vict Age": [
          0,
          27,
          60,
          28,
          37
         ],
         "Vict Descent": [
          null,
          "B",
          "H",
          "H",
          "H"
         ],
         "Vict Sex": [
          null,
          "F",
          "M",
          "M",
          "M"
         ],
         "Weapon Desc": [
          null,
          null,
          null,
          null,
          null
         ],
         "index": [
          0,
          1,
          2,
          3,
          4
         ]
        },
        "schema": {
         "fields": [
          {
           "name": "index",
           "type": "integer"
          },
          {
           "name": "DR_NO",
           "type": "integer"
          },
          {
           "name": "Date Rptd",
           "type": "datetime"
          },
          {
           "name": "DATE OCC",
           "type": "datetime"
          },
          {
           "name": "TIME OCC",
           "type": "string"
          },
          {
           "name": "AREA NAME",
           "type": "string"
          },
          {
           "name": "Crm Cd Desc",
           "type": "string"
          },
          {
           "name": "Vict Age",
           "type": "integer"
          },
          {
           "name": "Vict Sex",
           "type": "string"
          },
          {
           "name": "Vict Descent",
           "type": "string"
          },
          {
           "name": "Weapon Desc",
           "type": "string"
          },
          {
           "name": "Status Desc",
           "type": "string"
          },
          {
           "name": "LOCATION",
           "type": "string"
          }
         ],
         "pandas_version": "1.4.0",
         "primaryKey": [
          "index"
         ]
        }
       },
       "total_rows": 5,
       "truncation_type": null
      },
      "text/html": [
       "<div>\n",
       "<style scoped>\n",
       "    .dataframe tbody tr th:only-of-type {\n",
       "        vertical-align: middle;\n",
       "    }\n",
       "\n",
       "    .dataframe tbody tr th {\n",
       "        vertical-align: top;\n",
       "    }\n",
       "\n",
       "    .dataframe thead th {\n",
       "        text-align: right;\n",
       "    }\n",
       "</style>\n",
       "<table border=\"1\" class=\"dataframe\">\n",
       "  <thead>\n",
       "    <tr style=\"text-align: right;\">\n",
       "      <th></th>\n",
       "      <th>DR_NO</th>\n",
       "      <th>Date Rptd</th>\n",
       "      <th>DATE OCC</th>\n",
       "      <th>TIME OCC</th>\n",
       "      <th>AREA NAME</th>\n",
       "      <th>Crm Cd Desc</th>\n",
       "      <th>Vict Age</th>\n",
       "      <th>Vict Sex</th>\n",
       "      <th>Vict Descent</th>\n",
       "      <th>Weapon Desc</th>\n",
       "      <th>Status Desc</th>\n",
       "      <th>LOCATION</th>\n",
       "    </tr>\n",
       "  </thead>\n",
       "  <tbody>\n",
       "    <tr>\n",
       "      <th>0</th>\n",
       "      <td>221412410</td>\n",
       "      <td>2022-06-15</td>\n",
       "      <td>2020-11-12</td>\n",
       "      <td>1700</td>\n",
       "      <td>Pacific</td>\n",
       "      <td>THEFT FROM MOTOR VEHICLE - PETTY ($950 &amp; UNDER)</td>\n",
       "      <td>0</td>\n",
       "      <td>NaN</td>\n",
       "      <td>NaN</td>\n",
       "      <td>NaN</td>\n",
       "      <td>Invest Cont</td>\n",
       "      <td>13600    MARINA POINT                 DR</td>\n",
       "    </tr>\n",
       "    <tr>\n",
       "      <th>1</th>\n",
       "      <td>220314085</td>\n",
       "      <td>2022-07-22</td>\n",
       "      <td>2020-05-12</td>\n",
       "      <td>1110</td>\n",
       "      <td>Southwest</td>\n",
       "      <td>THEFT OF IDENTITY</td>\n",
       "      <td>27</td>\n",
       "      <td>F</td>\n",
       "      <td>B</td>\n",
       "      <td>NaN</td>\n",
       "      <td>Invest Cont</td>\n",
       "      <td>2500 S  SYCAMORE                     AV</td>\n",
       "    </tr>\n",
       "    <tr>\n",
       "      <th>2</th>\n",
       "      <td>222013040</td>\n",
       "      <td>2022-08-06</td>\n",
       "      <td>2020-06-04</td>\n",
       "      <td>1620</td>\n",
       "      <td>Olympic</td>\n",
       "      <td>THEFT OF IDENTITY</td>\n",
       "      <td>60</td>\n",
       "      <td>M</td>\n",
       "      <td>H</td>\n",
       "      <td>NaN</td>\n",
       "      <td>Invest Cont</td>\n",
       "      <td>3300    SAN MARINO                   ST</td>\n",
       "    </tr>\n",
       "    <tr>\n",
       "      <th>3</th>\n",
       "      <td>220614831</td>\n",
       "      <td>2022-08-18</td>\n",
       "      <td>2020-08-17</td>\n",
       "      <td>1200</td>\n",
       "      <td>Hollywood</td>\n",
       "      <td>THEFT OF IDENTITY</td>\n",
       "      <td>28</td>\n",
       "      <td>M</td>\n",
       "      <td>H</td>\n",
       "      <td>NaN</td>\n",
       "      <td>Invest Cont</td>\n",
       "      <td>1900    TRANSIENT</td>\n",
       "    </tr>\n",
       "    <tr>\n",
       "      <th>4</th>\n",
       "      <td>231207725</td>\n",
       "      <td>2023-02-27</td>\n",
       "      <td>2020-01-27</td>\n",
       "      <td>0635</td>\n",
       "      <td>77th Street</td>\n",
       "      <td>THEFT OF IDENTITY</td>\n",
       "      <td>37</td>\n",
       "      <td>M</td>\n",
       "      <td>H</td>\n",
       "      <td>NaN</td>\n",
       "      <td>Invest Cont</td>\n",
       "      <td>6200    4TH                          AV</td>\n",
       "    </tr>\n",
       "  </tbody>\n",
       "</table>\n",
       "</div>"
      ],
      "text/plain": [
       "       DR_NO  Date Rptd  ...  Status Desc                                  LOCATION\n",
       "0  221412410 2022-06-15  ...  Invest Cont  13600    MARINA POINT                 DR\n",
       "1  220314085 2022-07-22  ...  Invest Cont   2500 S  SYCAMORE                     AV\n",
       "2  222013040 2022-08-06  ...  Invest Cont   3300    SAN MARINO                   ST\n",
       "3  220614831 2022-08-18  ...  Invest Cont                         1900    TRANSIENT\n",
       "4  231207725 2023-02-27  ...  Invest Cont   6200    4TH                          AV\n",
       "\n",
       "[5 rows x 12 columns]"
      ]
     },
     "execution_count": 39,
     "metadata": {},
     "output_type": "execute_result"
    }
   ],
   "source": [
    "# Import required libraries\n",
    "import pandas as pd\n",
    "import numpy as np\n",
    "import matplotlib.pyplot as plt\n",
    "import seaborn as sns\n",
    "crimes = pd.read_csv(\"crimes.csv\", parse_dates=[\"Date Rptd\", \"DATE OCC\"], dtype={\"TIME OCC\": str})\n",
    "crimes.head()"
   ]
  },
  {
   "cell_type": "code",
   "execution_count": 40,
   "id": "8819a2fa-93f9-44bc-9a84-59bba62c0a9e",
   "metadata": {
    "executionCancelledAt": null,
    "executionTime": 610,
    "lastExecutedAt": 1710601047472,
    "lastScheduledRunId": null,
    "lastSuccessfullyExecutedCode": "# Corrected code\n#extract hours of crimes occurance\n# and convert to integer data type\ncrimes['hours_occ'] = crimes['TIME OCC'].str[:2].astype('int')\nsns.countplot(x='hours_occ', data=crimes)\n# Midday has the largest volume of crime\npeak_crime_hour = 12",
    "outputsMetadata": {
     "0": {
      "height": 215,
      "type": "dataFrame"
     }
    }
   },
   "outputs": [
    {
     "data": {
      "image/png": "[encoded data removed]",
      "text/plain": [
       "<Figure size 640x480 with 1 Axes>"
      ]
     },
     "metadata": {},
     "output_type": "display_data"
    }
   ],
   "source": [
    "# Extract hours of crime occurrence and convert to an integer data type\n",
    "crimes['hours_occ'] = crimes['TIME OCC'].str[:2].astype('int')\n",
    "sns.countplot(x='hours_occ', data=crimes)\n",
    "# Midday has the largest volume of crime\n",
    "peak_crime_hour = 12"
   ]
  },
  {
   "cell_type": "code",
   "execution_count": 41,
   "id": "1fad3e66-1677-4784-be80-2131bf551cf9",
   "metadata": {
    "executionCancelledAt": null,
    "executionTime": 49,
    "lastExecutedAt": 1710601047521,
    "lastScheduledRunId": null,
    "lastSuccessfullyExecutedCode": "#subset night crimes between: (10pm - 3.59am)\nnight_crimes = crimes[(crimes['hours_occ']>=22) | (crimes['hours_occ']<4)]\nnight_crimes.head()"
   },
   "outputs": [
    {
     "data": {
      "application/com.datacamp.data-table.v2+json": {
       "table": {
        "data": {
         "AREA NAME": [
          "77th Street",
          "Devonshire",
          "Newton",
          "Newton",
          "Foothill"
         ],
         "Crm Cd Desc": [
          "BURGLARY",
          "THEFT OF IDENTITY",
          "THEFT OF IDENTITY",
          "THEFT OF IDENTITY",
          "THEFT OF IDENTITY"
         ],
         "DATE OCC": [
          "2020-08-15T00:00:00.000",
          "2020-05-15T00:00:00.000",
          "2020-04-07T00:00:00.000",
          "2020-07-05T00:00:00.000",
          "2020-01-01T00:00:00.000"
         ],
         "DR_NO": [
          231207476,
          221711184,
          221314362,
          231307252,
          221614254
         ],
         "Date Rptd": [
          "2023-02-27T00:00:00.000",
          "2022-06-15T00:00:00.000",
          "2022-07-11T00:00:00.000",
          "2023-03-03T00:00:00.000",
          "2022-11-13T00:00:00.000"
         ],
         "LOCATION": [
          "8800    HAAS                         AV",
          "8300    WHITE OAK                    AV",
          "1600 E  OLYMPIC                      BL",
          "6600 S  BROADWAY",
          "10200    TELFAIR                      AV"
         ],
         "Status Desc": [
          "Invest Cont",
          "Invest Cont",
          "Invest Cont",
          "Invest Cont",
          "Invest Cont"
         ],
         "TIME OCC": [
          "0001",
          "0155",
          "0001",
          "2305",
          "0001"
         ],
         "Vict Age": [
          72,
          27,
          53,
          22,
          22
         ],
         "Vict Descent": [
          "B",
          "B",
          "H",
          "B",
          "H"
         ],
         "Vict Sex": [
          "M",
          "M",
          "F",
          "F",
          "F"
         ],
         "Weapon Desc": [
          null,
          null,
          null,
          null,
          null
         ],
         "hours_occ": [
          0,
          1,
          0,
          23,
          0
         ],
         "index": [
          9,
          12,
          36,
          39,
          42
         ]
        },
        "schema": {
         "fields": [
          {
           "name": "index",
           "type": "integer"
          },
          {
           "name": "DR_NO",
           "type": "integer"
          },
          {
           "name": "Date Rptd",
           "type": "datetime"
          },
          {
           "name": "DATE OCC",
           "type": "datetime"
          },
          {
           "name": "TIME OCC",
           "type": "string"
          },
          {
           "name": "AREA NAME",
           "type": "string"
          },
          {
           "name": "Crm Cd Desc",
           "type": "string"
          },
          {
           "name": "Vict Age",
           "type": "integer"
          },
          {
           "name": "Vict Sex",
           "type": "string"
          },
          {
           "name": "Vict Descent",
           "type": "string"
          },
          {
           "name": "Weapon Desc",
           "type": "string"
          },
          {
           "name": "Status Desc",
           "type": "string"
          },
          {
           "name": "LOCATION",
           "type": "string"
          },
          {
           "name": "hours_occ",
           "type": "integer"
          }
         ],
         "pandas_version": "1.4.0",
         "primaryKey": [
          "index"
         ]
        }
       },
       "total_rows": 5,
       "truncation_type": null
      },
      "text/html": [
       "<div>\n",
       "<style scoped>\n",
       "    .dataframe tbody tr th:only-of-type {\n",
       "        vertical-align: middle;\n",
       "    }\n",
       "\n",
       "    .dataframe tbody tr th {\n",
       "        vertical-align: top;\n",
       "    }\n",
       "\n",
       "    .dataframe thead th {\n",
       "        text-align: right;\n",
       "    }\n",
       "</style>\n",
       "<table border=\"1\" class=\"dataframe\">\n",
       "  <thead>\n",
       "    <tr style=\"text-align: right;\">\n",
       "      <th></th>\n",
       "      <th>DR_NO</th>\n",
       "      <th>Date Rptd</th>\n",
       "      <th>DATE OCC</th>\n",
       "      <th>TIME OCC</th>\n",
       "      <th>AREA NAME</th>\n",
       "      <th>Crm Cd Desc</th>\n",
       "      <th>Vict Age</th>\n",
       "      <th>Vict Sex</th>\n",
       "      <th>Vict Descent</th>\n",
       "      <th>Weapon Desc</th>\n",
       "      <th>Status Desc</th>\n",
       "      <th>LOCATION</th>\n",
       "      <th>hours_occ</th>\n",
       "    </tr>\n",
       "  </thead>\n",
       "  <tbody>\n",
       "    <tr>\n",
       "      <th>9</th>\n",
       "      <td>231207476</td>\n",
       "      <td>2023-02-27</td>\n",
       "      <td>2020-08-15</td>\n",
       "      <td>0001</td>\n",
       "      <td>77th Street</td>\n",
       "      <td>BURGLARY</td>\n",
       "      <td>72</td>\n",
       "      <td>M</td>\n",
       "      <td>B</td>\n",
       "      <td>NaN</td>\n",
       "      <td>Invest Cont</td>\n",
       "      <td>8800    HAAS                         AV</td>\n",
       "      <td>0</td>\n",
       "    </tr>\n",
       "    <tr>\n",
       "      <th>12</th>\n",
       "      <td>221711184</td>\n",
       "      <td>2022-06-15</td>\n",
       "      <td>2020-05-15</td>\n",
       "      <td>0155</td>\n",
       "      <td>Devonshire</td>\n",
       "      <td>THEFT OF IDENTITY</td>\n",
       "      <td>27</td>\n",
       "      <td>M</td>\n",
       "      <td>B</td>\n",
       "      <td>NaN</td>\n",
       "      <td>Invest Cont</td>\n",
       "      <td>8300    WHITE OAK                    AV</td>\n",
       "      <td>1</td>\n",
       "    </tr>\n",
       "    <tr>\n",
       "      <th>36</th>\n",
       "      <td>221314362</td>\n",
       "      <td>2022-07-11</td>\n",
       "      <td>2020-04-07</td>\n",
       "      <td>0001</td>\n",
       "      <td>Newton</td>\n",
       "      <td>THEFT OF IDENTITY</td>\n",
       "      <td>53</td>\n",
       "      <td>F</td>\n",
       "      <td>H</td>\n",
       "      <td>NaN</td>\n",
       "      <td>Invest Cont</td>\n",
       "      <td>1600 E  OLYMPIC                      BL</td>\n",
       "      <td>0</td>\n",
       "    </tr>\n",
       "    <tr>\n",
       "      <th>39</th>\n",
       "      <td>231307252</td>\n",
       "      <td>2023-03-03</td>\n",
       "      <td>2020-07-05</td>\n",
       "      <td>2305</td>\n",
       "      <td>Newton</td>\n",
       "      <td>THEFT OF IDENTITY</td>\n",
       "      <td>22</td>\n",
       "      <td>F</td>\n",
       "      <td>B</td>\n",
       "      <td>NaN</td>\n",
       "      <td>Invest Cont</td>\n",
       "      <td>6600 S  BROADWAY</td>\n",
       "      <td>23</td>\n",
       "    </tr>\n",
       "    <tr>\n",
       "      <th>42</th>\n",
       "      <td>221614254</td>\n",
       "      <td>2022-11-13</td>\n",
       "      <td>2020-01-01</td>\n",
       "      <td>0001</td>\n",
       "      <td>Foothill</td>\n",
       "      <td>THEFT OF IDENTITY</td>\n",
       "      <td>22</td>\n",
       "      <td>F</td>\n",
       "      <td>H</td>\n",
       "      <td>NaN</td>\n",
       "      <td>Invest Cont</td>\n",
       "      <td>10200    TELFAIR                      AV</td>\n",
       "      <td>0</td>\n",
       "    </tr>\n",
       "  </tbody>\n",
       "</table>\n",
       "</div>"
      ],
      "text/plain": [
       "        DR_NO  Date Rptd  ...                                  LOCATION hours_occ\n",
       "9   231207476 2023-02-27  ...   8800    HAAS                         AV         0\n",
       "12  221711184 2022-06-15  ...   8300    WHITE OAK                    AV         1\n",
       "36  221314362 2022-07-11  ...   1600 E  OLYMPIC                      BL         0\n",
       "39  231307252 2023-03-03  ...                          6600 S  BROADWAY        23\n",
       "42  221614254 2022-11-13  ...  10200    TELFAIR                      AV         0\n",
       "\n",
       "[5 rows x 13 columns]"
      ]
     },
     "execution_count": 41,
     "metadata": {},
     "output_type": "execute_result"
    }
   ],
   "source": [
    "#subset night crimes between: (10pm - 3.59am)\n",
    "night_crimes = crimes[(crimes['hours_occ']>=22) | (crimes['hours_occ']<4)]\n",
    "night_crimes.head()"
   ]
  },
  {
   "cell_type": "code",
   "execution_count": 42,
   "id": "9e3977a5-09cb-421c-a0e6-1c348503c8e7",
   "metadata": {
    "executionCancelledAt": null,
    "executionTime": 52,
    "lastExecutedAt": 1710601047573,
    "lastScheduledRunId": null,
    "lastSuccessfullyExecutedCode": "# Determine areas with largest night crimes\npeak_night_crime_location = night_crimes.groupby('AREA NAME',as_index=False)['hours_occ'].count().sort_values(\"hours_occ\", ascending=False).iloc[0]['AREA NAME']\n# Print the peak night crime location\nprint(f\"The area with the largest volume of night crime is '{peak_night_crime_location}'.\")",
    "outputsMetadata": {
     "0": {
      "height": 37,
      "type": "stream"
     }
    }
   },
   "outputs": [
    {
     "name": "stdout",
     "output_type": "stream",
     "text": [
      "The area with the largest volume of night crime is 'Central'.\n"
     ]
    }
   ],
   "source": [
    "# Determine areas with largest night crimes\n",
    "peak_night_crime_location = night_crimes.groupby('AREA NAME',as_index=False)['hours_occ'].count().sort_values(\"hours_occ\", ascending=False).iloc[0]['AREA NAME']\n",
    "# Print the peak night crime location\n",
    "print(f\"The area with the largest volume of night crime is '{peak_night_crime_location}'.\")"
   ]
  },
  {
   "cell_type": "code",
   "execution_count": 43,
   "id": "065f9926-e016-4906-94b2-0a10f28c19b4",
   "metadata": {
    "executionCancelledAt": null,
    "executionTime": 52,
    "lastExecutedAt": 1710601047625,
    "lastScheduledRunId": null,
    "lastSuccessfullyExecutedCode": "# Identify the number of crimes committed against victims by age group (0-17, 18-25, 26-34, 35-44, 45-54, 55-64, 65+) \nage_bins = [0, 17, 25, 34, 44, 54, 64, np.inf]\nage_labels = [\"0-17\", \"18-25\", \"26-34\", \"35-44\", \"45-54\", \"55-64\", \"65+\"]\ncrimes[\"Age Bracket\"] = pd.cut(crimes[\"Vict Age\"], bins=age_bins, labels=age_labels)\nvictim_ages = crimes[\"Age Bracket\"].value_counts()\nprint(victim_ages)"
   },
   "outputs": [
    {
     "name": "stdout",
     "output_type": "stream",
     "text": [
      "26-34    47470\n",
      "35-44    42157\n",
      "45-54    28353\n",
      "18-25    28291\n",
      "55-64    20169\n",
      "65+      14747\n",
      "0-17      4528\n",
      "Name: Age Bracket, dtype: int64\n"
     ]
    }
   ],
   "source": [
    "# Identify the number of crimes committed against victims by age group (0-17, 18-25, 26-34, 35-44, 45-54, 55-64, 65+) \n",
    "age_bins = [0, 17, 25, 34, 44, 54, 64, np.inf]\n",
    "age_labels = [\"0-17\", \"18-25\", \"26-34\", \"35-44\", \"45-54\", \"55-64\", \"65+\"]\n",
    "crimes[\"Age Bracket\"] = pd.cut(crimes[\"Vict Age\"], bins=age_bins, labels=age_labels)\n",
    "victim_ages = crimes[\"Age Bracket\"].value_counts()\n",
    "print(victim_ages)"
   ]
  },
  {
   "cell_type": "code",
   "execution_count": 44,
   "id": "69a9c5b4-570c-4b9e-8ea5-89e2d333970a",
   "metadata": {
    "executionCancelledAt": null,
    "executionTime": 291,
    "lastExecutedAt": 1710601047916,
    "lastScheduledRunId": null,
    "lastSuccessfullyExecutedCode": "sns.countplot(data=crimes, x='Age Bracket')\nplt.show()"
   },
   "outputs": [
    {
     "data": {
      "image/png": "[encoded data removed]",
      "text/plain": [
       "<Figure size 640x480 with 1 Axes>"
      ]
     },
     "metadata": {},
     "output_type": "display_data"
    }
   ],
   "source": [
    "# Visualize the frequencies through each \"Age Bracket\"\n",
    "sns.countplot(data=crimes, x='Age Bracket')\n",
    "plt.show()"
   ]
  }
 ],
 "metadata": {
  "colab": {
   "name": "Welcome to DataCamp Workspaces.ipynb",
   "provenance": []
  },
  "kernelspec": {
   "display_name": "Python 3 (ipykernel)",
   "language": "python",
   "name": "python3"
  },
  "language_info": {
   "codemirror_mode": {
    "name": "ipython",
    "version": 3
   },
   "file_extension": ".py",
   "mimetype": "text/x-python",
   "name": "python",
   "nbconvert_exporter": "python",
   "pygments_lexer": "ipython3",
   "version": "3.13.2"
  }
 },
 "nbformat": 4,
 "nbformat_minor": 5
}
