{
 "cells": [
  {
   "cell_type": "code",
   "execution_count": 2,
   "id": "b49903a1-4a39-4c9a-b235-dabe17c9fbed",
   "metadata": {},
   "outputs": [],
   "source": [
    "# Importing the necessary Packages\n",
    "import numpy as np\n",
    "import pandas as pd\n",
    "import seaborn as sns"
   ]
  },
  {
   "cell_type": "code",
   "execution_count": 3,
   "id": "d54deb0b-0bab-4c49-b9d4-d24d8e76a76f",
   "metadata": {},
   "outputs": [
    {
     "data": {
      "text/html": [
       "<div>\n",
       "<style scoped>\n",
       "    .dataframe tbody tr th:only-of-type {\n",
       "        vertical-align: middle;\n",
       "    }\n",
       "\n",
       "    .dataframe tbody tr th {\n",
       "        vertical-align: top;\n",
       "    }\n",
       "\n",
       "    .dataframe thead th {\n",
       "        text-align: right;\n",
       "    }\n",
       "</style>\n",
       "<table border=\"1\" class=\"dataframe\">\n",
       "  <thead>\n",
       "    <tr style=\"text-align: right;\">\n",
       "      <th></th>\n",
       "      <th>year</th>\n",
       "      <th>category</th>\n",
       "      <th>prize</th>\n",
       "      <th>motivation</th>\n",
       "      <th>prize_share</th>\n",
       "      <th>laureate_id</th>\n",
       "      <th>laureate_type</th>\n",
       "      <th>full_name</th>\n",
       "      <th>birth_date</th>\n",
       "      <th>birth_city</th>\n",
       "      <th>birth_country</th>\n",
       "      <th>sex</th>\n",
       "      <th>organization_name</th>\n",
       "      <th>organization_city</th>\n",
       "      <th>organization_country</th>\n",
       "      <th>death_date</th>\n",
       "      <th>death_city</th>\n",
       "      <th>death_country</th>\n",
       "    </tr>\n",
       "  </thead>\n",
       "  <tbody>\n",
       "    <tr>\n",
       "      <th>0</th>\n",
       "      <td>1901</td>\n",
       "      <td>Chemistry</td>\n",
       "      <td>The Nobel Prize in Chemistry 1901</td>\n",
       "      <td>\"in recognition of the extraordinary services ...</td>\n",
       "      <td>1/1</td>\n",
       "      <td>160</td>\n",
       "      <td>Individual</td>\n",
       "      <td>Jacobus Henricus van 't Hoff</td>\n",
       "      <td>1852-08-30</td>\n",
       "      <td>Rotterdam</td>\n",
       "      <td>Netherlands</td>\n",
       "      <td>Male</td>\n",
       "      <td>Berlin University</td>\n",
       "      <td>Berlin</td>\n",
       "      <td>Germany</td>\n",
       "      <td>1911-03-01</td>\n",
       "      <td>Berlin</td>\n",
       "      <td>Germany</td>\n",
       "    </tr>\n",
       "    <tr>\n",
       "      <th>1</th>\n",
       "      <td>1901</td>\n",
       "      <td>Literature</td>\n",
       "      <td>The Nobel Prize in Literature 1901</td>\n",
       "      <td>\"in special recognition of his poetic composit...</td>\n",
       "      <td>1/1</td>\n",
       "      <td>569</td>\n",
       "      <td>Individual</td>\n",
       "      <td>Sully Prudhomme</td>\n",
       "      <td>1839-03-16</td>\n",
       "      <td>Paris</td>\n",
       "      <td>France</td>\n",
       "      <td>Male</td>\n",
       "      <td>NaN</td>\n",
       "      <td>NaN</td>\n",
       "      <td>NaN</td>\n",
       "      <td>1907-09-07</td>\n",
       "      <td>Châtenay</td>\n",
       "      <td>France</td>\n",
       "    </tr>\n",
       "    <tr>\n",
       "      <th>2</th>\n",
       "      <td>1901</td>\n",
       "      <td>Medicine</td>\n",
       "      <td>The Nobel Prize in Physiology or Medicine 1901</td>\n",
       "      <td>\"for his work on serum therapy, especially its...</td>\n",
       "      <td>1/1</td>\n",
       "      <td>293</td>\n",
       "      <td>Individual</td>\n",
       "      <td>Emil Adolf von Behring</td>\n",
       "      <td>1854-03-15</td>\n",
       "      <td>Hansdorf (Lawice)</td>\n",
       "      <td>Prussia (Poland)</td>\n",
       "      <td>Male</td>\n",
       "      <td>Marburg University</td>\n",
       "      <td>Marburg</td>\n",
       "      <td>Germany</td>\n",
       "      <td>1917-03-31</td>\n",
       "      <td>Marburg</td>\n",
       "      <td>Germany</td>\n",
       "    </tr>\n",
       "    <tr>\n",
       "      <th>3</th>\n",
       "      <td>1901</td>\n",
       "      <td>Peace</td>\n",
       "      <td>The Nobel Peace Prize 1901</td>\n",
       "      <td>NaN</td>\n",
       "      <td>1/2</td>\n",
       "      <td>462</td>\n",
       "      <td>Individual</td>\n",
       "      <td>Jean Henry Dunant</td>\n",
       "      <td>1828-05-08</td>\n",
       "      <td>Geneva</td>\n",
       "      <td>Switzerland</td>\n",
       "      <td>Male</td>\n",
       "      <td>NaN</td>\n",
       "      <td>NaN</td>\n",
       "      <td>NaN</td>\n",
       "      <td>1910-10-30</td>\n",
       "      <td>Heiden</td>\n",
       "      <td>Switzerland</td>\n",
       "    </tr>\n",
       "    <tr>\n",
       "      <th>4</th>\n",
       "      <td>1901</td>\n",
       "      <td>Peace</td>\n",
       "      <td>The Nobel Peace Prize 1901</td>\n",
       "      <td>NaN</td>\n",
       "      <td>1/2</td>\n",
       "      <td>463</td>\n",
       "      <td>Individual</td>\n",
       "      <td>Frédéric Passy</td>\n",
       "      <td>1822-05-20</td>\n",
       "      <td>Paris</td>\n",
       "      <td>France</td>\n",
       "      <td>Male</td>\n",
       "      <td>NaN</td>\n",
       "      <td>NaN</td>\n",
       "      <td>NaN</td>\n",
       "      <td>1912-06-12</td>\n",
       "      <td>Paris</td>\n",
       "      <td>France</td>\n",
       "    </tr>\n",
       "  </tbody>\n",
       "</table>\n",
       "</div>"
      ],
      "text/plain": [
       "   year    category                                           prize  \\\n",
       "0  1901   Chemistry               The Nobel Prize in Chemistry 1901   \n",
       "1  1901  Literature              The Nobel Prize in Literature 1901   \n",
       "2  1901    Medicine  The Nobel Prize in Physiology or Medicine 1901   \n",
       "3  1901       Peace                      The Nobel Peace Prize 1901   \n",
       "4  1901       Peace                      The Nobel Peace Prize 1901   \n",
       "\n",
       "                                          motivation prize_share  laureate_id  \\\n",
       "0  \"in recognition of the extraordinary services ...         1/1          160   \n",
       "1  \"in special recognition of his poetic composit...         1/1          569   \n",
       "2  \"for his work on serum therapy, especially its...         1/1          293   \n",
       "3                                                NaN         1/2          462   \n",
       "4                                                NaN         1/2          463   \n",
       "\n",
       "  laureate_type                     full_name  birth_date         birth_city  \\\n",
       "0    Individual  Jacobus Henricus van 't Hoff  1852-08-30          Rotterdam   \n",
       "1    Individual               Sully Prudhomme  1839-03-16              Paris   \n",
       "2    Individual        Emil Adolf von Behring  1854-03-15  Hansdorf (Lawice)   \n",
       "3    Individual             Jean Henry Dunant  1828-05-08             Geneva   \n",
       "4    Individual                Frédéric Passy  1822-05-20              Paris   \n",
       "\n",
       "      birth_country   sex   organization_name organization_city  \\\n",
       "0       Netherlands  Male   Berlin University            Berlin   \n",
       "1            France  Male                 NaN               NaN   \n",
       "2  Prussia (Poland)  Male  Marburg University           Marburg   \n",
       "3       Switzerland  Male                 NaN               NaN   \n",
       "4            France  Male                 NaN               NaN   \n",
       "\n",
       "  organization_country  death_date death_city death_country  \n",
       "0              Germany  1911-03-01     Berlin       Germany  \n",
       "1                  NaN  1907-09-07   Châtenay        France  \n",
       "2              Germany  1917-03-31    Marburg       Germany  \n",
       "3                  NaN  1910-10-30     Heiden   Switzerland  \n",
       "4                  NaN  1912-06-12      Paris        France  "
      ]
     },
     "execution_count": 3,
     "metadata": {},
     "output_type": "execute_result"
    }
   ],
   "source": [
    "# loading the data\n",
    "nobel = pd.read_csv(\"nobel.csv\")\n",
    "nobel.head(5)"
   ]
  },
  {
   "cell_type": "code",
   "execution_count": 4,
   "id": "380e64c5-0b22-4c78-8f5f-f333887ff914",
   "metadata": {},
   "outputs": [
    {
     "name": "stdout",
     "output_type": "stream",
     "text": [
      "<class 'pandas.core.frame.DataFrame'>\n",
      "RangeIndex: 1000 entries, 0 to 999\n",
      "Data columns (total 18 columns):\n",
      " #   Column                Non-Null Count  Dtype \n",
      "---  ------                --------------  ----- \n",
      " 0   year                  1000 non-null   int64 \n",
      " 1   category              1000 non-null   object\n",
      " 2   prize                 1000 non-null   object\n",
      " 3   motivation            912 non-null    object\n",
      " 4   prize_share           1000 non-null   object\n",
      " 5   laureate_id           1000 non-null   int64 \n",
      " 6   laureate_type         1000 non-null   object\n",
      " 7   full_name             1000 non-null   object\n",
      " 8   birth_date            968 non-null    object\n",
      " 9   birth_city            964 non-null    object\n",
      " 10  birth_country         969 non-null    object\n",
      " 11  sex                   970 non-null    object\n",
      " 12  organization_name     736 non-null    object\n",
      " 13  organization_city     735 non-null    object\n",
      " 14  organization_country  735 non-null    object\n",
      " 15  death_date            596 non-null    object\n",
      " 16  death_city            579 non-null    object\n",
      " 17  death_country         585 non-null    object\n",
      "dtypes: int64(2), object(16)\n",
      "memory usage: 140.8+ KB\n"
     ]
    }
   ],
   "source": [
    "# Check the structure of the data\n",
    "nobel.info()"
   ]
  },
  {
   "cell_type": "code",
   "execution_count": 5,
   "id": "817a4d7e-9122-4395-9067-6ce5ace1c31e",
   "metadata": {},
   "outputs": [
    {
     "name": "stdout",
     "output_type": "stream",
     "text": [
      "<class 'pandas.core.frame.DataFrame'>\n",
      "RangeIndex: 1000 entries, 0 to 999\n",
      "Data columns (total 18 columns):\n",
      " #   Column                Non-Null Count  Dtype         \n",
      "---  ------                --------------  -----         \n",
      " 0   year                  1000 non-null   int64         \n",
      " 1   category              1000 non-null   object        \n",
      " 2   prize                 1000 non-null   object        \n",
      " 3   motivation            912 non-null    object        \n",
      " 4   prize_share           1000 non-null   object        \n",
      " 5   laureate_id           1000 non-null   int64         \n",
      " 6   laureate_type         1000 non-null   object        \n",
      " 7   full_name             1000 non-null   object        \n",
      " 8   birth_date            956 non-null    datetime64[ns]\n",
      " 9   birth_city            964 non-null    object        \n",
      " 10  birth_country         969 non-null    object        \n",
      " 11  sex                   970 non-null    object        \n",
      " 12  organization_name     736 non-null    object        \n",
      " 13  organization_city     735 non-null    object        \n",
      " 14  organization_country  735 non-null    object        \n",
      " 15  death_date            596 non-null    object        \n",
      " 16  death_city            579 non-null    object        \n",
      " 17  death_country         585 non-null    object        \n",
      "dtypes: datetime64[ns](1), int64(2), object(15)\n",
      "memory usage: 140.8+ KB\n"
     ]
    }
   ],
   "source": [
    "# Transform the \"birth_date\" to a date type\n",
    "nobel['birth_date'] = pd.to_datetime(nobel['birth_date'], format=\"%Y-%m-%d\", errors = \"coerce\")\n",
    "nobel.info()"
   ]
  },
  {
   "cell_type": "code",
   "execution_count": 6,
   "id": "cec6b1ea-8f57-4291-a073-763ae944cf7a",
   "metadata": {},
   "outputs": [
    {
     "name": "stdout",
     "output_type": "stream",
     "text": [
      "The top gender is \"Male\" with total number of \"905\" awards.\n"
     ]
    }
   ],
   "source": [
    "# The most commonly awarded gender\n",
    "top_gender = nobel['sex'].value_counts().index[0]\n",
    "top_gender_value = nobel['sex'].value_counts().max()\n",
    "print(f'The top gender is \"{top_gender}\" with total number of \"{top_gender_value}\" awards.')"
   ]
  },
  {
   "cell_type": "code",
   "execution_count": 11,
   "id": "c5fa0c68-5fd3-45e8-9a39-084de7ba15b5",
   "metadata": {},
   "outputs": [
    {
     "name": "stdout",
     "output_type": "stream",
     "text": [
      "The top country is \"United States of America\" with total number of \"291\" awards.\n"
     ]
    }
   ],
   "source": [
    "# The most commonly awarded birth country\n",
    "top_country = nobel['birth_country'].value_counts().index[0]\n",
    "top_country_value = nobel['birth_country'].value_counts().max()\n",
    "print(f'The top country is \"{top_country}\" with total number of \"{top_country_value}\" awards.')"
   ]
  },
  {
   "cell_type": "code",
   "execution_count": 12,
   "id": "f29752e7-7ca5-4ed9-9dfa-6d24873aa063",
   "metadata": {},
   "outputs": [
    {
     "data": {
      "text/plain": [
       "decade     \n",
       "1900    0      False\n",
       "        1      False\n",
       "        2      False\n",
       "        3      False\n",
       "        4      False\n",
       "               ...  \n",
       "2020    995     True\n",
       "        996    False\n",
       "        997    False\n",
       "        998    False\n",
       "        999     True\n",
       "Name: birth_country, Length: 1000, dtype: bool"
      ]
     },
     "execution_count": 12,
     "metadata": {},
     "output_type": "execute_result"
    }
   ],
   "source": [
    "# Create a decade column\n",
    "nobel['decade'] = ((nobel['year'] // 10) * 10).astype(int)\n",
    "\n",
    "# Check US winners*\n",
    "nobel.groupby('decade')['birth_country'].apply(lambda x: (x == 'United States of America'))"
   ]
  },
  {
   "cell_type": "code",
   "execution_count": 17,
   "id": "ec074b8b-ada8-4d66-88f5-d048c5e63c33",
   "metadata": {},
   "outputs": [
    {
     "data": {
      "text/html": [
       "<div>\n",
       "<style scoped>\n",
       "    .dataframe tbody tr th:only-of-type {\n",
       "        vertical-align: middle;\n",
       "    }\n",
       "\n",
       "    .dataframe tbody tr th {\n",
       "        vertical-align: top;\n",
       "    }\n",
       "\n",
       "    .dataframe thead th {\n",
       "        text-align: right;\n",
       "    }\n",
       "</style>\n",
       "<table border=\"1\" class=\"dataframe\">\n",
       "  <thead>\n",
       "    <tr style=\"text-align: right;\">\n",
       "      <th></th>\n",
       "      <th>birth_country</th>\n",
       "    </tr>\n",
       "    <tr>\n",
       "      <th>decade</th>\n",
       "      <th></th>\n",
       "    </tr>\n",
       "  </thead>\n",
       "  <tbody>\n",
       "    <tr>\n",
       "      <th>1900</th>\n",
       "      <td>0.02</td>\n",
       "    </tr>\n",
       "    <tr>\n",
       "      <th>1910</th>\n",
       "      <td>0.08</td>\n",
       "    </tr>\n",
       "    <tr>\n",
       "      <th>1920</th>\n",
       "      <td>0.07</td>\n",
       "    </tr>\n",
       "    <tr>\n",
       "      <th>1930</th>\n",
       "      <td>0.25</td>\n",
       "    </tr>\n",
       "    <tr>\n",
       "      <th>1940</th>\n",
       "      <td>0.30</td>\n",
       "    </tr>\n",
       "    <tr>\n",
       "      <th>1950</th>\n",
       "      <td>0.29</td>\n",
       "    </tr>\n",
       "    <tr>\n",
       "      <th>1960</th>\n",
       "      <td>0.27</td>\n",
       "    </tr>\n",
       "    <tr>\n",
       "      <th>1970</th>\n",
       "      <td>0.32</td>\n",
       "    </tr>\n",
       "    <tr>\n",
       "      <th>1980</th>\n",
       "      <td>0.32</td>\n",
       "    </tr>\n",
       "    <tr>\n",
       "      <th>1990</th>\n",
       "      <td>0.40</td>\n",
       "    </tr>\n",
       "    <tr>\n",
       "      <th>2000</th>\n",
       "      <td>0.42</td>\n",
       "    </tr>\n",
       "    <tr>\n",
       "      <th>2010</th>\n",
       "      <td>0.31</td>\n",
       "    </tr>\n",
       "    <tr>\n",
       "      <th>2020</th>\n",
       "      <td>0.36</td>\n",
       "    </tr>\n",
       "  </tbody>\n",
       "</table>\n",
       "</div>"
      ],
      "text/plain": [
       "        birth_country\n",
       "decade               \n",
       "1900             0.02\n",
       "1910             0.08\n",
       "1920             0.07\n",
       "1930             0.25\n",
       "1940             0.30\n",
       "1950             0.29\n",
       "1960             0.27\n",
       "1970             0.32\n",
       "1980             0.32\n",
       "1990             0.40\n",
       "2000             0.42\n",
       "2010             0.31\n",
       "2020             0.36"
      ]
     },
     "execution_count": 17,
     "metadata": {},
     "output_type": "execute_result"
    }
   ],
   "source": [
    "# Get the ratio of USA winners per each decade\n",
    "prop_usa = round(nobel.groupby('decade')['birth_country'].apply(lambda x: (x == 'United States of America').mean()), 2)\n",
    "prop_usa_winners = pd.DataFrame(prop_usa)\n",
    "prop_usa_winners"
   ]
  },
  {
   "cell_type": "code",
   "execution_count": 18,
   "id": "249e7342-95b1-4796-b6fe-e516fe0925f4",
   "metadata": {},
   "outputs": [
    {
     "name": "stdout",
     "output_type": "stream",
     "text": [
      "The decade with the most US winners is \"2000\" with ratio of \"0.42\".\n"
     ]
    }
   ],
   "source": [
    "# Identify the decade with the highest proportion of US-born winners\n",
    "print(f'The decade with the most US winners is \"{prop_usa_winners.idxmax().item()}\" with ratio of \"{prop_usa_winners.max().item()}\".')"
   ]
  },
  {
   "cell_type": "code",
   "execution_count": 19,
   "id": "964fff06-ac9d-4a5e-8bd2-366a78771781",
   "metadata": {},
   "outputs": [
    {
     "data": {
      "text/plain": [
       "<seaborn.axisgrid.FacetGrid at 0x19eeab8e7b0>"
      ]
     },
     "execution_count": 19,
     "metadata": {},
     "output_type": "execute_result"
    },
    {
     "data": {
      "image/png": "[encoded data removed]",
      "text/plain": [
       "<Figure size 500x500 with 1 Axes>"
      ]
     },
     "metadata": {},
     "output_type": "display_data"
    }
   ],
   "source": [
    "# Plotting USA born winners\n",
    "ax1 = sns.relplot(x='decade', y='birth_country', data=prop_usa_winners, kind=\"line\")\n",
    "ax1"
   ]
  },
  {
   "cell_type": "code",
   "execution_count": 20,
   "id": "55d51635-da2a-4115-8ee8-f6e054b56392",
   "metadata": {},
   "outputs": [
    {
     "data": {
      "text/html": [
       "<div>\n",
       "<style scoped>\n",
       "    .dataframe tbody tr th:only-of-type {\n",
       "        vertical-align: middle;\n",
       "    }\n",
       "\n",
       "    .dataframe tbody tr th {\n",
       "        vertical-align: top;\n",
       "    }\n",
       "\n",
       "    .dataframe thead th {\n",
       "        text-align: right;\n",
       "    }\n",
       "</style>\n",
       "<table border=\"1\" class=\"dataframe\">\n",
       "  <thead>\n",
       "    <tr style=\"text-align: right;\">\n",
       "      <th></th>\n",
       "      <th></th>\n",
       "      <th>female_proportion</th>\n",
       "    </tr>\n",
       "    <tr>\n",
       "      <th>decade</th>\n",
       "      <th>category</th>\n",
       "      <th></th>\n",
       "    </tr>\n",
       "  </thead>\n",
       "  <tbody>\n",
       "    <tr>\n",
       "      <th rowspan=\"5\" valign=\"top\">1900</th>\n",
       "      <th>Chemistry</th>\n",
       "      <td>0.00</td>\n",
       "    </tr>\n",
       "    <tr>\n",
       "      <th>Literature</th>\n",
       "      <td>0.10</td>\n",
       "    </tr>\n",
       "    <tr>\n",
       "      <th>Medicine</th>\n",
       "      <td>0.00</td>\n",
       "    </tr>\n",
       "    <tr>\n",
       "      <th>Peace</th>\n",
       "      <td>0.07</td>\n",
       "    </tr>\n",
       "    <tr>\n",
       "      <th>Physics</th>\n",
       "      <td>0.08</td>\n",
       "    </tr>\n",
       "    <tr>\n",
       "      <th>...</th>\n",
       "      <th>...</th>\n",
       "      <td>...</td>\n",
       "    </tr>\n",
       "    <tr>\n",
       "      <th rowspan=\"5\" valign=\"top\">2020</th>\n",
       "      <th>Economics</th>\n",
       "      <td>0.11</td>\n",
       "    </tr>\n",
       "    <tr>\n",
       "      <th>Literature</th>\n",
       "      <td>0.50</td>\n",
       "    </tr>\n",
       "    <tr>\n",
       "      <th>Medicine</th>\n",
       "      <td>0.12</td>\n",
       "    </tr>\n",
       "    <tr>\n",
       "      <th>Peace</th>\n",
       "      <td>0.29</td>\n",
       "    </tr>\n",
       "    <tr>\n",
       "      <th>Physics</th>\n",
       "      <td>0.17</td>\n",
       "    </tr>\n",
       "  </tbody>\n",
       "</table>\n",
       "<p>72 rows × 1 columns</p>\n",
       "</div>"
      ],
      "text/plain": [
       "                   female_proportion\n",
       "decade category                     \n",
       "1900   Chemistry                0.00\n",
       "       Literature               0.10\n",
       "       Medicine                 0.00\n",
       "       Peace                    0.07\n",
       "       Physics                  0.08\n",
       "...                              ...\n",
       "2020   Economics                0.11\n",
       "       Literature               0.50\n",
       "       Medicine                 0.12\n",
       "       Peace                    0.29\n",
       "       Physics                  0.17\n",
       "\n",
       "[72 rows x 1 columns]"
      ]
     },
     "execution_count": 20,
     "metadata": {},
     "output_type": "execute_result"
    }
   ],
   "source": [
    "# Which decade and Nobel Prize category combination had the highest proportion of female laureates?\n",
    "prop_fem = round(nobel.groupby(['decade', 'category'])['sex'].apply(lambda x: (x == 'Female').mean()), 2)\n",
    "max_female = pd.DataFrame(prop_fem)\n",
    "\n",
    "# Rename the proportion column as \"sex_ratio\"\n",
    "max_female = max_female.rename(columns={'sex': 'female_proportion'})\n",
    "max_female"
   ]
  },
  {
   "cell_type": "code",
   "execution_count": 22,
   "id": "3cbf390a-6ddd-4aee-b1c3-bc860c400cef",
   "metadata": {},
   "outputs": [
    {
     "name": "stdout",
     "output_type": "stream",
     "text": [
      "\"2020\" is The decade & Nobel Prize category with the highest proportion of: (0.5)\n"
     ]
    }
   ],
   "source": [
    "# The decade and Nobel Prize category with the highest proportion of female laureates\n",
    "max_female_decade_category = max_female[max_female['female_proportion'] == max_female['female_proportion'].max()].reset_index()\n",
    "max_fem_decade = max_female_decade_category['decade']\n",
    "max_fem_cat = max_female_decade_category['category']\n",
    "max_prop = max_female_decade_category['female_proportion']\n",
    "print(f'\"{max_fem_decade.item()}\" is The decade & Nobel Prize category with the highest proportion of: ({max_prop.item()})')\n"
   ]
  },
  {
   "cell_type": "code",
   "execution_count": 25,
   "id": "46cf6792-77a6-4c56-9b96-e58068268e11",
   "metadata": {},
   "outputs": [
    {
     "data": {
      "text/plain": [
       "{2020: 'Literature'}"
      ]
     },
     "execution_count": 25,
     "metadata": {},
     "output_type": "execute_result"
    }
   ],
   "source": [
    "# Create a dictionary with the decade and category pair\n",
    "max_female_dict = {max_fem_decade[0].item():max_fem_cat[0]}\n",
    "max_female_dict"
   ]
  },
  {
   "cell_type": "code",
   "execution_count": 27,
   "id": "9bc72bdf-ad32-4827-96e4-84528e11e374",
   "metadata": {},
   "outputs": [
    {
     "data": {
      "text/plain": [
       "<seaborn.axisgrid.FacetGrid at 0x19eedcec2d0>"
      ]
     },
     "execution_count": 27,
     "metadata": {},
     "output_type": "execute_result"
    },
    {
     "data": {
      "image/png": "[encoded data removed]",
      "text/plain": [
       "<Figure size 624.25x500 with 1 Axes>"
      ]
     },
     "metadata": {},
     "output_type": "display_data"
    }
   ],
   "source": [
    "# Plotting female winners with % winners on the y-axis\n",
    "ax2 = sns.relplot(x='decade', y='female_proportion', hue='category', data=max_female, kind=\"line\", style='category')\n",
    "ax2"
   ]
  },
  {
   "cell_type": "code",
   "execution_count": 28,
   "id": "9209343f-72dc-416b-9682-d56d9a199d4d",
   "metadata": {},
   "outputs": [
    {
     "data": {
      "text/html": [
       "<div>\n",
       "<style scoped>\n",
       "    .dataframe tbody tr th:only-of-type {\n",
       "        vertical-align: middle;\n",
       "    }\n",
       "\n",
       "    .dataframe tbody tr th {\n",
       "        vertical-align: top;\n",
       "    }\n",
       "\n",
       "    .dataframe thead th {\n",
       "        text-align: right;\n",
       "    }\n",
       "</style>\n",
       "<table border=\"1\" class=\"dataframe\">\n",
       "  <thead>\n",
       "    <tr style=\"text-align: right;\">\n",
       "      <th></th>\n",
       "      <th>year</th>\n",
       "      <th>category</th>\n",
       "      <th>sex</th>\n",
       "      <th>full_name</th>\n",
       "    </tr>\n",
       "  </thead>\n",
       "  <tbody>\n",
       "    <tr>\n",
       "      <th>0</th>\n",
       "      <td>1903</td>\n",
       "      <td>Physics</td>\n",
       "      <td>Female</td>\n",
       "      <td>Marie Curie, née Sklodowska</td>\n",
       "    </tr>\n",
       "  </tbody>\n",
       "</table>\n",
       "</div>"
      ],
      "text/plain": [
       "   year category     sex                    full_name\n",
       "0  1903  Physics  Female  Marie Curie, née Sklodowska"
      ]
     },
     "execution_count": 28,
     "metadata": {},
     "output_type": "execute_result"
    }
   ],
   "source": [
    "# Filter for female winners and get the first one\n",
    "first_female_winner = nobel[nobel['sex'] == 'Female'].nsmallest(1, 'year')[['year', 'category', 'sex', 'full_name']].reset_index(drop=True)\n",
    "first_female_winner"
   ]
  },
  {
   "cell_type": "code",
   "execution_count": 30,
   "id": "40f3d9bd-276d-4df5-9907-1e624d520074",
   "metadata": {},
   "outputs": [
    {
     "name": "stdout",
     "output_type": "stream",
     "text": [
      "At 1903, \"Marie Curie, née Sklodowska\" was the first woman to win the Nobel Prize and in \"Physics\" category.\n"
     ]
    }
   ],
   "source": [
    "# set variables (first_woman_name & first_woman_category)\n",
    "first_woman_name = first_female_winner['full_name'].item()\n",
    "first_woman_category = first_female_winner['category'].item()\n",
    "first_woman_year = first_female_winner[\"year\"].item()\n",
    "\n",
    "# Who was the first woman to receive a Nobel Prize, and in what category?\n",
    "print(f'At {first_woman_year}, \"{first_woman_name}\" was the first woman to win the Nobel Prize and in \"{first_woman_category}\" category.')"
   ]
  },
  {
   "cell_type": "code",
   "execution_count": 21,
   "id": "04266597-922e-456b-9090-a7e2ecbb2c25",
   "metadata": {},
   "outputs": [
    {
     "name": "stdout",
     "output_type": "stream",
     "text": [
      "\n",
      " The repeat winners are : ['Comité international de la Croix Rouge (International Committee of the Red Cross)', 'Frederick Sanger', 'Marie Curie, née Sklodowska', 'Office of the United Nations High Commissioner for Refugees (UNHCR)', 'John Bardeen', 'Linus Carl Pauling']\n"
     ]
    }
   ],
   "source": [
    "# Selecting the laureates that have received 2 or more prizes\n",
    "counts = nobel['full_name'].value_counts()\n",
    "repeats = counts[counts>1].index\n",
    "repeat_list = list(repeats)\n",
    "print(\"\\n The repeat winners are :\", repeat_list)"
   ]
  }
 ],
 "metadata": {
  "kernelspec": {
   "display_name": "Python 3 (ipykernel)",
   "language": "python",
   "name": "python3"
  },
  "language_info": {
   "codemirror_mode": {
    "name": "ipython",
    "version": 3
   },
   "file_extension": ".py",
   "mimetype": "text/x-python",
   "name": "python",
   "nbconvert_exporter": "python",
   "pygments_lexer": "ipython3",
   "version": "3.13.2"
  }
 },
 "nbformat": 4,
 "nbformat_minor": 5
}
